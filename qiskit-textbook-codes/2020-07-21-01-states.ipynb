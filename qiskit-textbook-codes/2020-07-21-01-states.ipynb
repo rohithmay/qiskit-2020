{
 "cells": [
  {
   "cell_type": "markdown",
   "metadata": {},
   "source": [
    "# Quantum States and Qubits\n",
    "\n",
    "**Rohith Krishna**  \n",
    "**July 21, 2020**\n",
    "\n",
    "The exercises tried out here can be found at https://qiskit.org/textbook/ch-states/."
   ]
  },
  {
   "cell_type": "code",
   "execution_count": 9,
   "metadata": {},
   "outputs": [],
   "source": [
    "from qiskit import QuantumCircuit, execute, Aer\n",
    "from qiskit.visualization import plot_histogram"
   ]
  },
  {
   "cell_type": "markdown",
   "metadata": {},
   "source": [
    "A basic quantum circuit is constructed here with $n_q$ qubits. On measurement, the state collapses to one of the classical states."
   ]
  },
  {
   "cell_type": "code",
   "execution_count": 17,
   "metadata": {},
   "outputs": [],
   "source": [
    "n = 8\n",
    "n_q = n # number of qubits in the circuit\n",
    "n_b = n # number of output bits extracted in the end\n",
    "qc_output = QuantumCircuit(n_q,n_b)"
   ]
  },
  {
   "cell_type": "code",
   "execution_count": 18,
   "metadata": {},
   "outputs": [
    {
     "data": {
      "text/html": [
       "<pre style=\"word-wrap: normal;white-space: pre;background: #fff0;line-height: 1.1;font-family: &quot;Courier New&quot;,Courier,monospace\">     ┌─┐                     \n",
       "q_0: ┤M├─────────────────────\n",
       "     └╥┘┌─┐                  \n",
       "q_1: ─╫─┤M├──────────────────\n",
       "      ║ └╥┘┌─┐               \n",
       "q_2: ─╫──╫─┤M├───────────────\n",
       "      ║  ║ └╥┘┌─┐            \n",
       "q_3: ─╫──╫──╫─┤M├────────────\n",
       "      ║  ║  ║ └╥┘┌─┐         \n",
       "q_4: ─╫──╫──╫──╫─┤M├─────────\n",
       "      ║  ║  ║  ║ └╥┘┌─┐      \n",
       "q_5: ─╫──╫──╫──╫──╫─┤M├──────\n",
       "      ║  ║  ║  ║  ║ └╥┘┌─┐   \n",
       "q_6: ─╫──╫──╫──╫──╫──╫─┤M├───\n",
       "      ║  ║  ║  ║  ║  ║ └╥┘┌─┐\n",
       "q_7: ─╫──╫──╫──╫──╫──╫──╫─┤M├\n",
       "      ║  ║  ║  ║  ║  ║  ║ └╥┘\n",
       "c_0: ═╩══╬══╬══╬══╬══╬══╬══╬═\n",
       "         ║  ║  ║  ║  ║  ║  ║ \n",
       "c_1: ════╩══╬══╬══╬══╬══╬══╬═\n",
       "            ║  ║  ║  ║  ║  ║ \n",
       "c_2: ═══════╩══╬══╬══╬══╬══╬═\n",
       "               ║  ║  ║  ║  ║ \n",
       "c_3: ══════════╩══╬══╬══╬══╬═\n",
       "                  ║  ║  ║  ║ \n",
       "c_4: ═════════════╩══╬══╬══╬═\n",
       "                     ║  ║  ║ \n",
       "c_5: ════════════════╩══╬══╬═\n",
       "                        ║  ║ \n",
       "c_6: ═══════════════════╩══╬═\n",
       "                           ║ \n",
       "c_7: ══════════════════════╩═\n",
       "                             </pre>"
      ],
      "text/plain": [
       "     ┌─┐                     \n",
       "q_0: ┤M├─────────────────────\n",
       "     └╥┘┌─┐                  \n",
       "q_1: ─╫─┤M├──────────────────\n",
       "      ║ └╥┘┌─┐               \n",
       "q_2: ─╫──╫─┤M├───────────────\n",
       "      ║  ║ └╥┘┌─┐            \n",
       "q_3: ─╫──╫──╫─┤M├────────────\n",
       "      ║  ║  ║ └╥┘┌─┐         \n",
       "q_4: ─╫──╫──╫──╫─┤M├─────────\n",
       "      ║  ║  ║  ║ └╥┘┌─┐      \n",
       "q_5: ─╫──╫──╫──╫──╫─┤M├──────\n",
       "      ║  ║  ║  ║  ║ └╥┘┌─┐   \n",
       "q_6: ─╫──╫──╫──╫──╫──╫─┤M├───\n",
       "      ║  ║  ║  ║  ║  ║ └╥┘┌─┐\n",
       "q_7: ─╫──╫──╫──╫──╫──╫──╫─┤M├\n",
       "      ║  ║  ║  ║  ║  ║  ║ └╥┘\n",
       "c_0: ═╩══╬══╬══╬══╬══╬══╬══╬═\n",
       "         ║  ║  ║  ║  ║  ║  ║ \n",
       "c_1: ════╩══╬══╬══╬══╬══╬══╬═\n",
       "            ║  ║  ║  ║  ║  ║ \n",
       "c_2: ═══════╩══╬══╬══╬══╬══╬═\n",
       "               ║  ║  ║  ║  ║ \n",
       "c_3: ══════════╩══╬══╬══╬══╬═\n",
       "                  ║  ║  ║  ║ \n",
       "c_4: ═════════════╩══╬══╬══╬═\n",
       "                     ║  ║  ║ \n",
       "c_5: ════════════════╩══╬══╬═\n",
       "                        ║  ║ \n",
       "c_6: ═══════════════════╩══╬═\n",
       "                           ║ \n",
       "c_7: ══════════════════════╩═\n",
       "                             "
      ]
     },
     "execution_count": 18,
     "metadata": {},
     "output_type": "execute_result"
    }
   ],
   "source": [
    "for j in range(n):\n",
    "    qc_output.measure(j,j)\n",
    "qc_output.draw()"
   ]
  },
  {
   "cell_type": "markdown",
   "metadata": {},
   "source": [
    "Note that, by default, the qubits are initialized to give an output 0. This can be checked by running the code several times and plotting a histogram of outputs. "
   ]
  },
  {
   "cell_type": "code",
   "execution_count": 19,
   "metadata": {},
   "outputs": [
    {
     "data": {
      "image/png": "[encoded data removed]",
      "text/plain": [
       "<Figure size 504x360 with 1 Axes>"
      ]
     },
     "execution_count": 19,
     "metadata": {},
     "output_type": "execute_result"
    }
   ],
   "source": [
    "counts = execute(qc_output, Aer.get_backend('qasm_simulator')).result().get_counts()\n",
    "plot_histogram(counts)"
   ]
  },
  {
   "cell_type": "code",
   "execution_count": 20,
   "metadata": {},
   "outputs": [
    {
     "data": {
      "image/png": "[encoded data removed]",
      "text/plain": [
       "<Figure size 418.992x204.68 with 1 Axes>"
      ]
     },
     "execution_count": 20,
     "metadata": {},
     "output_type": "execute_result"
    }
   ],
   "source": [
    "mycircuit = QuantumCircuit(2, 2)\n",
    "mycircuit.h(0)\n",
    "mycircuit.cx(0,1)\n",
    "mycircuit.measure([0,1], [0,1])\n",
    "mycircuit.draw('mpl')"
   ]
  },
  {
   "cell_type": "code",
   "execution_count": null,
   "metadata": {},
   "outputs": [],
   "source": []
  }
 ],
 "metadata": {
  "kernelspec": {
   "display_name": "Python 3",
   "language": "python",
   "name": "python3"
  },
  "language_info": {
   "codemirror_mode": {
    "name": "ipython",
    "version": 3
   },
   "file_extension": ".py",
   "mimetype": "text/x-python",
   "name": "python",
   "nbconvert_exporter": "python",
   "pygments_lexer": "ipython3",
   "version": "3.7.6"
  }
 },
 "nbformat": 4,
 "nbformat_minor": 4
}
